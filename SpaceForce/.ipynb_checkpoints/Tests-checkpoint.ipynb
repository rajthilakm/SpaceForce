{
 "cells": [
  {
   "cell_type": "code",
   "execution_count": 9,
   "metadata": {},
   "outputs": [],
   "source": [
    "from test_utils import * \n",
    "import space_transmit\n",
    "import datetime\n",
    "import pandas as pd \n",
    "from pandas.util.testing import assert_frame_equal\n",
    "import numpy as np"
   ]
  },
  {
   "cell_type": "code",
   "execution_count": 119,
   "metadata": {},
   "outputs": [],
   "source": [
    "def process_data(raw_data,units):\n",
    "    df=pd.DataFrame.from_records(raw_data)\n",
    "    df['datetime']=pd.to_datetime(pd.DatetimeIndex(df.datetime))\n",
    "    df.value=pd.to_numeric(df.value,errors='coerce').astype('float')\n",
    "    interval=round(pd.Series(df.datetime.unique()).diff().dropna().mean()/np.timedelta64(1, 'm'))\n",
    "    df=df.set_index('datetime')\n",
    "    if interval==60.0 and (units=='kW' or units=='kWh'):\n",
    "        df= disaggregate(df)\n",
    "    elif interval== 5.0 and units=='kW':\n",
    "        df=df*(5/60)\n",
    "        df=df.resample('15T').sum()\n",
    "    elif interval == 5.0 and units =='kWh':\n",
    "        df=df.resample('15T').sum()\n",
    "    elif interval ==15.0 and units=='kW':\n",
    "        df=df/4\n",
    "    elif interval==15.0 and units=='kWh':\n",
    "        df=df\n",
    "    else:\n",
    "        return(Exception)\n",
    "    return df"
   ]
  },
  {
   "cell_type": "code",
   "execution_count": 117,
   "metadata": {},
   "outputs": [],
   "source": [
    "raw_data=pd.read_pickle('./raw_data_1H.pickle')\n",
    "#processed_df=pd.read_pickle('./processed_df_15_Min.pickle')\n",
    "units='kWh'\n",
    "#test_processed_df_15_M=space_transmit.process_data(raw_data,units)"
   ]
  },
  {
   "cell_type": "code",
   "execution_count": 118,
   "metadata": {},
   "outputs": [
    {
     "data": {
      "text/plain": [
       "[{'datetime': '2018-08-24T00:00:00Z', 'value': 12},\n",
       " {'datetime': '2018-08-24T01:00:00Z', 'value': 26},\n",
       " {'datetime': '2018-08-24T02:00:00Z', 'value': 18}]"
      ]
     },
     "execution_count": 118,
     "metadata": {},
     "output_type": "execute_result"
    }
   ],
   "source": [
    "raw_data"
   ]
  },
  {
   "cell_type": "code",
   "execution_count": null,
   "metadata": {},
   "outputs": [],
   "source": []
  },
  {
   "cell_type": "code",
   "execution_count": null,
   "metadata": {},
   "outputs": [],
   "source": []
  }
 ],
 "metadata": {
  "kernelspec": {
   "display_name": "Python 3",
   "language": "python",
   "name": "python3"
  },
  "language_info": {
   "codemirror_mode": {
    "name": "ipython",
    "version": 3
   },
   "file_extension": ".py",
   "mimetype": "text/x-python",
   "name": "python",
   "nbconvert_exporter": "python",
   "pygments_lexer": "ipython3",
   "version": "3.7.2"
  }
 },
 "nbformat": 4,
 "nbformat_minor": 2
}
