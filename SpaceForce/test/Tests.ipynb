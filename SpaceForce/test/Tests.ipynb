{
 "cells": [
  {
   "cell_type": "code",
   "execution_count": 137,
   "metadata": {},
   "outputs": [],
   "source": [
    "from test_utils import * \n",
    "import space_transmit\n",
    "import datetime\n",
    "import pandas as pd \n",
    "from pandas.util.testing import assert_frame_equal\n",
    "import numpy as np\n",
    "\n",
    "from influxdb import DataFrameClient\n",
    "from influxdb import InfluxDBClient\n",
    "\n",
    "import json"
   ]
  },
  {
   "cell_type": "code",
   "execution_count": 121,
   "metadata": {},
   "outputs": [],
   "source": [
    "def process_data(raw_data,units):\n",
    "    df=pd.DataFrame.from_records(raw_data)\n",
    "    df['datetime']=pd.to_datetime(pd.DatetimeIndex(df.datetime))\n",
    "    df.value=pd.to_numeric(df.value,errors='coerce').astype('float')\n",
    "    interval=round(pd.Series(df.datetime.unique()).diff().dropna().mean()/np.timedelta64(1, 'm'))\n",
    "    df=df.set_index('datetime')\n",
    "    if interval==60.0 and (units=='kW' or units=='kWh'):\n",
    "        df= disaggregate(df)\n",
    "    elif interval== 5.0 and units=='kW':\n",
    "        df=df*(5/60)\n",
    "        df=df.resample('15T').sum()\n",
    "    elif interval == 5.0 and units =='kWh':\n",
    "        df=df.resample('15T').sum()\n",
    "    elif interval ==15.0 and units=='kW':\n",
    "        df=df/4\n",
    "    elif interval==15.0 and units=='kWh':\n",
    "        df=df\n",
    "    else:\n",
    "        return(Exception)\n",
    "    return df\n",
    "\n",
    "def disaggregate(df):\n",
    "    df=df/4\n",
    "    df=df.resample('15T').mean().interpolate(method='pad',axis=1,limit=3,limit_direction='forward')\n",
    "    ds=pd.date_range(start=df.index[-1]+datetime.timedelta(minutes=15),periods=3,freq='15T')\n",
    "    ve=[df.iloc[-1].value]*3\n",
    "    new_df=pd.DataFrame({'datetime':ds,'value':ve})\n",
    "    new_df=new_df.set_index('datetime')\n",
    "    df=df.append(new_df)\n",
    "    return df"
   ]
  },
  {
   "cell_type": "code",
   "execution_count": 135,
   "metadata": {},
   "outputs": [],
   "source": [
    "def query_db(s_id,start_date,end_date):\n",
    "    client=InfluxDBClient(host='127.0.0.1',port=8086,database='space_app')\n",
    "    sd=format_date(start_date)\n",
    "    ed=format_date(end_date)\n",
    "    q=\"SELECT * FROM autogen.power where (site_id='{}' AND time >='{}' AND time <='{}')\".format(s_id,sd,ed)\n",
    "    x=client.query(q,database='space')\n",
    "    x_dict=x.raw\n",
    "    x_df=pd.DataFrame.from_records(x_dict.get('series')[0].get('values'),columns=x_dict.get('series')[0].get('columns'))\n",
    "    x_df=x_df.rename(columns={'time':'datetime'})\n",
    "    data=x_df[['datetime','value']].to_json(orient='records')\n",
    "    frame={\"spaceship_id\":x_df.site_id.iloc[0],\"units\":x_df.units.iloc[0],\"data\":json.loads(data)}\n",
    "    return frame\n",
    "\n",
    "def format_date(sd):\n",
    "    return sd.replace('-',':').replace(':','-',2)"
   ]
  },
  {
   "cell_type": "code",
   "execution_count": 128,
   "metadata": {},
   "outputs": [
    {
     "data": {
      "text/html": [
       "<div>\n",
       "<style scoped>\n",
       "    .dataframe tbody tr th:only-of-type {\n",
       "        vertical-align: middle;\n",
       "    }\n",
       "\n",
       "    .dataframe tbody tr th {\n",
       "        vertical-align: top;\n",
       "    }\n",
       "\n",
       "    .dataframe thead th {\n",
       "        text-align: right;\n",
       "    }\n",
       "</style>\n",
       "<table border=\"1\" class=\"dataframe\">\n",
       "  <thead>\n",
       "    <tr style=\"text-align: right;\">\n",
       "      <th></th>\n",
       "      <th>value</th>\n",
       "    </tr>\n",
       "    <tr>\n",
       "      <th>datetime</th>\n",
       "      <th></th>\n",
       "    </tr>\n",
       "  </thead>\n",
       "  <tbody>\n",
       "    <tr>\n",
       "      <th>2018-08-24 00:00:00+00:00</th>\n",
       "      <td>5.750000</td>\n",
       "    </tr>\n",
       "    <tr>\n",
       "      <th>2018-08-24 00:15:00+00:00</th>\n",
       "      <td>5.250000</td>\n",
       "    </tr>\n",
       "    <tr>\n",
       "      <th>2018-08-24 00:30:00+00:00</th>\n",
       "      <td>0.666667</td>\n",
       "    </tr>\n",
       "  </tbody>\n",
       "</table>\n",
       "</div>"
      ],
      "text/plain": [
       "                              value\n",
       "datetime                           \n",
       "2018-08-24 00:00:00+00:00  5.750000\n",
       "2018-08-24 00:15:00+00:00  5.250000\n",
       "2018-08-24 00:30:00+00:00  0.666667"
      ]
     },
     "execution_count": 128,
     "metadata": {},
     "output_type": "execute_result"
    }
   ],
   "source": [
    "raw_data=pd.read_pickle('./raw_data_5M.pickle')\n",
    "#processed_df=pd.read_pickle('./processed_df_1H.pickle')\n",
    "units='kW'\n",
    "space_transmit.process_data(raw_data,units)"
   ]
  },
  {
   "cell_type": "code",
   "execution_count": 118,
   "metadata": {},
   "outputs": [
    {
     "data": {
      "text/plain": [
       "[{'datetime': '2018-08-24T00:00:00Z', 'value': 12},\n",
       " {'datetime': '2018-08-24T01:00:00Z', 'value': 26},\n",
       " {'datetime': '2018-08-24T02:00:00Z', 'value': 18}]"
      ]
     },
     "execution_count": 118,
     "metadata": {},
     "output_type": "execute_result"
    }
   ],
   "source": [
    "raw_data"
   ]
  },
  {
   "cell_type": "code",
   "execution_count": 129,
   "metadata": {},
   "outputs": [],
   "source": [
    "processed_df=process_data(raw_data,units)"
   ]
  },
  {
   "cell_type": "code",
   "execution_count": 130,
   "metadata": {},
   "outputs": [],
   "source": [
    "processed_df.to_pickle('./processed_df_5M.pickle')"
   ]
  },
  {
   "cell_type": "code",
   "execution_count": 144,
   "metadata": {},
   "outputs": [],
   "source": [
    "pd.to_pickle(query_db('11','2018-08-24T00-00-00Z','2018-08-24T03-00-00Z'),'./query_db_result.pickle')"
   ]
  },
  {
   "cell_type": "code",
   "execution_count": null,
   "metadata": {},
   "outputs": [],
   "source": []
  }
 ],
 "metadata": {
  "kernelspec": {
   "display_name": "Python 3",
   "language": "python",
   "name": "python3"
  },
  "language_info": {
   "codemirror_mode": {
    "name": "ipython",
    "version": 3
   },
   "file_extension": ".py",
   "mimetype": "text/x-python",
   "name": "python",
   "nbconvert_exporter": "python",
   "pygments_lexer": "ipython3",
   "version": "3.7.2"
  }
 },
 "nbformat": 4,
 "nbformat_minor": 2
}
